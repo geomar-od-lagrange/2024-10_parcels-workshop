{
 "cells": [
  {
   "cell_type": "markdown",
   "id": "9150647d-2979-414f-ac70-cd1a281d7228",
   "metadata": {},
   "source": [
    "# Quickstart to parcels -- Moving Eddies: Idealised field\n",
    "\n",
    "(Boiled down from: https://docs.oceanparcels.org/en/v3.0.4/examples/parcels_tutorial.html)"
   ]
  },
  {
   "cell_type": "markdown",
   "id": "864cc43c-ed2b-489e-bf06-3c2cd0cff7af",
   "metadata": {},
   "source": [
    "## Basic setup"
   ]
  },
  {
   "cell_type": "code",
   "execution_count": 1,
   "id": "a3a2ec49-2d51-4498-ae99-4b29ed90f87e",
   "metadata": {},
   "outputs": [],
   "source": [
    "from pathlib import Path\n",
    "example_data_path = Path(\"../parcels_example_data/\")"
   ]
  },
  {
   "cell_type": "markdown",
   "id": "841eab9d-be97-4d75-a7c4-82a0d77c0c38",
   "metadata": {},
   "source": [
    "## Importing relevant modules\n",
    "\n",
    "We need to import `parcels` itself along with `matplotlib`, `xarray`, and `datetime`."
   ]
  },
  {
   "cell_type": "code",
   "execution_count": null,
   "id": "0692e807-8f83-43cc-bb6d-1f30e79e2d44",
   "metadata": {},
   "outputs": [],
   "source": []
  },
  {
   "cell_type": "markdown",
   "id": "079f1b03-b7f4-42e8-a0f1-aa62cb212689",
   "metadata": {},
   "source": [
    "## Create fieldset\n",
    "\n",
    "We'll let two particles in an idealised velocity field run forward for 6 days and then backward again."
   ]
  },
  {
   "cell_type": "markdown",
   "id": "897e0ea9-6ee2-4ca1-9287-4a65d37f5021",
   "metadata": {},
   "source": [
    "Create fieldsset w/ `.from_parcels()` on the \"MovingEddies_data\" dataset (where individual files are called `\"moving_eddies?.nc\"`:"
   ]
  },
  {
   "cell_type": "code",
   "execution_count": null,
   "id": "ba76405c-15f6-4325-9c85-ec96643e5c80",
   "metadata": {},
   "outputs": [],
   "source": []
  },
  {
   "cell_type": "markdown",
   "id": "e76f983f-99bd-4d73-8453-40f2c3e8a866",
   "metadata": {},
   "source": [
    "Have a look:\n",
    "- `fieldset.computeTimeChunk()` loads data\n",
    "- plot `fieldset.U.data[0, :, :]` against its cooreds `fieldset.U.grid.lon`, and `fieldset.U.grid.lat`."
   ]
  },
  {
   "cell_type": "code",
   "execution_count": null,
   "id": "7e53d88a-1448-4f41-9bac-a0fedf0e448b",
   "metadata": {},
   "outputs": [],
   "source": []
  },
  {
   "cell_type": "markdown",
   "id": "f58c5728-cda1-47eb-aa4c-95bdbea45aca",
   "metadata": {},
   "source": [
    "## Create Particleset"
   ]
  },
  {
   "cell_type": "markdown",
   "id": "1d37f603-e31e-486e-9dfc-77cf2ff3396e",
   "metadata": {},
   "source": [
    "Create a particleset using `ParticleSet.from_list()` starting on the `lon=3.3e5` line."
   ]
  },
  {
   "cell_type": "code",
   "execution_count": null,
   "id": "fb01d109-b5f0-4146-a069-4c80e7512550",
   "metadata": {},
   "outputs": [],
   "source": []
  },
  {
   "cell_type": "code",
   "execution_count": null,
   "id": "81cbfee6-f8b1-4be4-9dc2-1403bebc958a",
   "metadata": {},
   "outputs": [],
   "source": []
  },
  {
   "cell_type": "markdown",
   "id": "00222cdd-8c81-421c-9b8c-8c8169c01d7a",
   "metadata": {},
   "source": [
    "Have a look at the `particleset`. (Print and plot `pset.lon` and `pset.lat` along with the `fieldset`.)"
   ]
  },
  {
   "cell_type": "code",
   "execution_count": null,
   "id": "4c49bda5-afd5-4977-9155-7bdca51ce293",
   "metadata": {},
   "outputs": [],
   "source": []
  },
  {
   "cell_type": "code",
   "execution_count": null,
   "id": "cd77b30b-b3e2-4648-acbb-1cda27649aab",
   "metadata": {},
   "outputs": [],
   "source": []
  },
  {
   "cell_type": "markdown",
   "id": "cd54aa7b-8c25-4353-a51d-6235c4d1a579",
   "metadata": {},
   "source": [
    "## Execute"
   ]
  },
  {
   "cell_type": "markdown",
   "id": "30666677-f841-4525-872a-96d1ffe79c61",
   "metadata": {},
   "source": [
    "Let particles evolve with the `AdvectionRK4` `kernel`, using a `runtime` of 3 days with a 5 minute time step `dt`."
   ]
  },
  {
   "cell_type": "code",
   "execution_count": null,
   "id": "50d1dcb3-41f7-48d2-a637-1d160a9c3629",
   "metadata": {},
   "outputs": [],
   "source": []
  },
  {
   "cell_type": "markdown",
   "id": "7777ea96-dc03-4692-8a43-962af1dd6b8a",
   "metadata": {},
   "source": [
    "Have a look at the new particle positions."
   ]
  },
  {
   "cell_type": "code",
   "execution_count": null,
   "id": "b975775a-0ed6-45b1-bb48-fb24811916b1",
   "metadata": {},
   "outputs": [],
   "source": []
  },
  {
   "cell_type": "code",
   "execution_count": null,
   "id": "7f11b6b1-1b0a-4dfd-aff6-84afd866f5ea",
   "metadata": {},
   "outputs": [],
   "source": []
  },
  {
   "cell_type": "markdown",
   "id": "d6e57063-094c-42a9-8f87-194de9bf7654",
   "metadata": {},
   "source": [
    "## Write outputs"
   ]
  },
  {
   "cell_type": "markdown",
   "id": "6cfba633-9f70-4681-9091-67f7f9de4289",
   "metadata": {},
   "source": [
    "Define a `ParticleFile` (passed to `.execute()` as `output_file`) \"EddyParticles.zarr\" with an `outputdt` of 1 hour and execute the `particleset` again for 3 days."
   ]
  },
  {
   "cell_type": "code",
   "execution_count": null,
   "id": "677773e4-cfbc-42b2-9e15-53190d046722",
   "metadata": {},
   "outputs": [],
   "source": []
  },
  {
   "cell_type": "code",
   "execution_count": null,
   "id": "4153c0b1-02b6-4a7a-ba4f-5cf8cd167825",
   "metadata": {},
   "outputs": [],
   "source": []
  },
  {
   "cell_type": "markdown",
   "id": "3339cbe4-8207-4afb-9bc6-e71dca68615d",
   "metadata": {},
   "source": [
    "Have a look at the output file with `xarray` (using `.open_zarr()`)."
   ]
  },
  {
   "cell_type": "code",
   "execution_count": null,
   "id": "46498d2e-c3dd-448d-9fd0-63f29b494614",
   "metadata": {},
   "outputs": [],
   "source": []
  },
  {
   "cell_type": "code",
   "execution_count": null,
   "id": "efc7fed3-5ea7-4ad0-950f-7839806a6224",
   "metadata": {},
   "outputs": [],
   "source": []
  },
  {
   "cell_type": "markdown",
   "id": "9df261e1-9eb3-4f6d-b496-01f83c4bb5d2",
   "metadata": {},
   "source": [
    "## Run backwards in time"
   ]
  },
  {
   "cell_type": "markdown",
   "id": "fb885b19-547e-4e36-a21f-ced0f6d4ae91",
   "metadata": {},
   "source": [
    "Run particles backward in time for 6 days and compare the recorded trajectories."
   ]
  },
  {
   "cell_type": "code",
   "execution_count": null,
   "id": "551c7b64-604b-44ea-a2c6-59c2aa0cbc76",
   "metadata": {},
   "outputs": [],
   "source": []
  },
  {
   "cell_type": "code",
   "execution_count": null,
   "id": "2b792a4d-1877-4f73-9925-24ce69cbbee8",
   "metadata": {},
   "outputs": [],
   "source": []
  },
  {
   "cell_type": "markdown",
   "id": "11ba091f-da5e-4351-8387-251b2ded109a",
   "metadata": {},
   "source": [
    "Have a look with Xarray and compare both output files"
   ]
  },
  {
   "cell_type": "code",
   "execution_count": null,
   "id": "eb51d822-a3a7-4c3e-98db-23f52ab1016d",
   "metadata": {},
   "outputs": [],
   "source": []
  },
  {
   "cell_type": "code",
   "execution_count": null,
   "id": "cbd6db31-a70a-45a5-a93b-1b51ee7aacec",
   "metadata": {},
   "outputs": [],
   "source": []
  },
  {
   "cell_type": "code",
   "execution_count": null,
   "id": "b3e5594a-b6e1-467f-9668-00305898887c",
   "metadata": {},
   "outputs": [],
   "source": []
  }
 ],
 "metadata": {
  "kernelspec": {
   "display_name": "Python 3 (ipykernel)",
   "language": "python",
   "name": "python3"
  },
  "language_info": {
   "codemirror_mode": {
    "name": "ipython",
    "version": 3
   },
   "file_extension": ".py",
   "mimetype": "text/x-python",
   "name": "python",
   "nbconvert_exporter": "python",
   "pygments_lexer": "ipython3",
   "version": "3.11.10"
  }
 },
 "nbformat": 4,
 "nbformat_minor": 5
}
