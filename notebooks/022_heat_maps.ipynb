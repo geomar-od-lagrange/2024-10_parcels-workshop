{
 "cells": [
  {
   "cell_type": "markdown",
   "id": "3d328838-3232-4ec0-b55c-b6025f52d8be",
   "metadata": {},
   "source": [
    "# Advanced Topics -- Heat Maps"
   ]
  },
  {
   "cell_type": "markdown",
   "id": "011f43b3-c325-428d-81d8-cea3de4a7591",
   "metadata": {},
   "source": [
    "## Importing relevant modules\n",
    "\n",
    "We need to import `parcels` itself along with `matplotlib`, `xarray`, and `datetime`."
   ]
  },
  {
   "cell_type": "code",
   "execution_count": null,
   "id": "933669c5-7340-4e00-a2d0-4c87bf9e8f3e",
   "metadata": {},
   "outputs": [],
   "source": [
    "import xarray as xr\n",
    "from xhistogram.xarray import histogram as xhist\n",
    "import numpy as np"
   ]
  },
  {
   "cell_type": "markdown",
   "id": "b4fed58e-d49a-4c94-a8c1-31c3ffca3b78",
   "metadata": {},
   "source": [
    "## Load data\n",
    "\n",
    "Let's use the output from the drift kernel experiments."
   ]
  },
  {
   "cell_type": "code",
   "execution_count": null,
   "id": "45c4b549-a00b-4eab-9923-f427f7bcacfc",
   "metadata": {},
   "outputs": [],
   "source": []
  },
  {
   "cell_type": "markdown",
   "id": "00420e52-0c7c-4b9d-893a-0d617f2b5c80",
   "metadata": {},
   "source": [
    "## Calculate time (obs) resolved histograms\n",
    "\n",
    "Let's create 20 x 20 bins covering the whole particle cloud."
   ]
  },
  {
   "cell_type": "code",
   "execution_count": null,
   "id": "d7790c0d-393c-453c-959c-52e3f0a0ad81",
   "metadata": {},
   "outputs": [],
   "source": []
  },
  {
   "cell_type": "code",
   "execution_count": null,
   "id": "2ef87982-82d7-40f3-acbe-fcaa6bacec83",
   "metadata": {},
   "outputs": [],
   "source": []
  },
  {
   "cell_type": "markdown",
   "id": "058c8d14-9d7c-4191-983a-98e38061e9cb",
   "metadata": {},
   "source": [
    "## Have a look"
   ]
  },
  {
   "cell_type": "code",
   "execution_count": null,
   "id": "ef667af6-5da2-4b8a-9e16-905d82bbd6cc",
   "metadata": {},
   "outputs": [],
   "source": []
  }
 ],
 "metadata": {
  "kernelspec": {
   "display_name": "Python 3 (ipykernel)",
   "language": "python",
   "name": "python3"
  },
  "language_info": {
   "codemirror_mode": {
    "name": "ipython",
    "version": 3
   },
   "file_extension": ".py",
   "mimetype": "text/x-python",
   "name": "python",
   "nbconvert_exporter": "python",
   "pygments_lexer": "ipython3",
   "version": "3.11.10"
  }
 },
 "nbformat": 4,
 "nbformat_minor": 5
}
