{
 "cells": [
  {
   "cell_type": "markdown",
   "id": "7a9efa15-00f3-4e39-b654-d9e437e54860",
   "metadata": {},
   "source": [
    "# Quickstart to parcels -- Realistic Currents\n",
    "\n",
    "(Boiled down from: https://docs.oceanparcels.org/en/v3.0.4/examples/parcels_tutorial.html)"
   ]
  },
  {
   "cell_type": "markdown",
   "id": "864cc43c-ed2b-489e-bf06-3c2cd0cff7af",
   "metadata": {},
   "source": [
    "## Basic setup"
   ]
  },
  {
   "cell_type": "code",
   "execution_count": 1,
   "id": "a3a2ec49-2d51-4498-ae99-4b29ed90f87e",
   "metadata": {},
   "outputs": [],
   "source": [
    "from pathlib import Path\n",
    "example_data_path = Path(\"../parcels_example_data/\")"
   ]
  },
  {
   "cell_type": "markdown",
   "id": "841eab9d-be97-4d75-a7c4-82a0d77c0c38",
   "metadata": {},
   "source": [
    "## Importing relevant modules\n",
    "\n",
    "We need to import `parcels` itself along with `matplotlib`, `xarray`, and `datetime`."
   ]
  },
  {
   "cell_type": "code",
   "execution_count": null,
   "id": "141c8105-7bd0-485d-9d23-9aabbaf97191",
   "metadata": {},
   "outputs": [],
   "source": []
  },
  {
   "cell_type": "markdown",
   "id": "56af53f0-5fbe-4fc5-b938-83d56aff548c",
   "metadata": {},
   "source": [
    "## Create FieldSet"
   ]
  },
  {
   "cell_type": "markdown",
   "id": "1e63ef44-55d6-4e70-b6c6-58bf4e06f62f",
   "metadata": {},
   "source": [
    "Load the example data from the `\"GlobCurrent_example_data\"` directory.\n",
    "Filesnames are starting with a year in the 2000's.\n",
    "\n",
    "\n",
    "Hints:\n",
    "- use the `.from_netcdf()` method to create the fieldset\n",
    "- variable `\"eastward_eulerian_current_velocity\"` is `\"U\"`\n",
    "- variable `\"northward_eulerian_current_velocity\"` is `\"V\"`.\n",
    "- dimensions are `\"time\"`, `\"lon\"`, `\"lat\"`."
   ]
  },
  {
   "cell_type": "code",
   "execution_count": null,
   "id": "3ca9e83f-acc0-4aac-9cca-0c96e99d5ca4",
   "metadata": {},
   "outputs": [],
   "source": []
  },
  {
   "cell_type": "code",
   "execution_count": null,
   "id": "739f654e-c21d-44e2-96ff-04806d3d570c",
   "metadata": {},
   "outputs": [],
   "source": []
  },
  {
   "cell_type": "code",
   "execution_count": null,
   "id": "66bdc15c-64c2-47f8-8d91-e0b4775a3b0e",
   "metadata": {},
   "outputs": [],
   "source": []
  },
  {
   "cell_type": "code",
   "execution_count": null,
   "id": "def062a1-f9de-47ff-9be6-bdb2c3cb5984",
   "metadata": {},
   "outputs": [],
   "source": []
  },
  {
   "cell_type": "markdown",
   "id": "10972f7a-fd88-4dea-b7b4-6bc318e29586",
   "metadata": {},
   "source": [
    "## Create ParticleSet"
   ]
  },
  {
   "attachments": {},
   "cell_type": "markdown",
   "id": "9fef0966-8158-4511-b3cc-041129323b0d",
   "metadata": {},
   "source": [
    "Now define a `ParticleSet`, in this case with 2_000 particle starting randomly distributed within the bounds of the fieldset. Use the `ParticleSet.from_list` constructor method again."
   ]
  },
  {
   "cell_type": "code",
   "execution_count": null,
   "id": "479e0590-4792-4c49-b63b-95a379823a79",
   "metadata": {},
   "outputs": [],
   "source": []
  },
  {
   "cell_type": "code",
   "execution_count": null,
   "id": "93895760-a4ef-48ea-b553-7a14ec8ceae1",
   "metadata": {},
   "outputs": [],
   "source": []
  },
  {
   "cell_type": "markdown",
   "id": "6543ef05-4f7a-445f-b50c-65bce903529a",
   "metadata": {},
   "source": [
    "## Execute"
   ]
  },
  {
   "cell_type": "markdown",
   "id": "c29a766b-e426-4912-9f98-34d7ab94c141",
   "metadata": {},
   "source": [
    "Create an error-handling kernel which deletes particles with too high status codes.\n",
    "\n",
    "(See https://docs.oceanparcels.org/en/latest/examples/tutorial_kernelloop.html#Working-with-Status-Codes) "
   ]
  },
  {
   "cell_type": "code",
   "execution_count": null,
   "id": "8a8b18ab-5126-4b36-8cdf-cfddf8d8b2bb",
   "metadata": {},
   "outputs": [],
   "source": []
  },
  {
   "attachments": {},
   "cell_type": "markdown",
   "id": "0720347f-7619-4527-b1ed-c8d3751841c6",
   "metadata": {},
   "source": [
    "Execute the `ParticleSet` for 10 days at 5-minute time step using the 4th order Runge-Kutta kernel and the Error Kernel above.\n",
    "Capture output every 6 hours."
   ]
  },
  {
   "cell_type": "code",
   "execution_count": null,
   "id": "8f510330-8d04-4a2a-93cc-3ea734a45cd2",
   "metadata": {},
   "outputs": [],
   "source": []
  },
  {
   "cell_type": "markdown",
   "id": "f0549f90-ae0b-4f87-87f1-d212dcb1b955",
   "metadata": {},
   "source": [
    "## Have a look at the output"
   ]
  },
  {
   "cell_type": "markdown",
   "id": "d25f64e2-fa76-4a5f-98bd-e017aae15916",
   "metadata": {},
   "source": [
    "Load dataset with `xarray`."
   ]
  },
  {
   "cell_type": "code",
   "execution_count": null,
   "id": "1af9d53d-f13a-4efa-9bdf-a1c62595e126",
   "metadata": {},
   "outputs": [],
   "source": []
  },
  {
   "cell_type": "markdown",
   "id": "c78bc0ec-0125-4302-8e9c-190c597e0d84",
   "metadata": {},
   "source": [
    "## Plot trajecories"
   ]
  },
  {
   "cell_type": "code",
   "execution_count": null,
   "id": "313f5075-849d-46b1-a7b6-339df68f94a7",
   "metadata": {},
   "outputs": [],
   "source": []
  }
 ],
 "metadata": {
  "kernelspec": {
   "display_name": "Python 3 (ipykernel)",
   "language": "python",
   "name": "python3"
  },
  "language_info": {
   "codemirror_mode": {
    "name": "ipython",
    "version": 3
   },
   "file_extension": ".py",
   "mimetype": "text/x-python",
   "name": "python",
   "nbconvert_exporter": "python",
   "pygments_lexer": "ipython3",
   "version": "3.11.10"
  }
 },
 "nbformat": 4,
 "nbformat_minor": 5
}
