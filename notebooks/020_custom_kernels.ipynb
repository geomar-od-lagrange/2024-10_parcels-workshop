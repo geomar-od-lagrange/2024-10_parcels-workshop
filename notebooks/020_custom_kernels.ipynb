{
 "cells": [
  {
   "cell_type": "markdown",
   "id": "01c91a48-ba5e-454a-a536-75340e1dd3f0",
   "metadata": {},
   "source": [
    "# Advanced Topics -- Custom Kernels\n",
    "\n",
    "(Boiled down from: https://docs.oceanparcels.org/en/v3.0.4/examples/parcels_tutorial.html)"
   ]
  },
  {
   "cell_type": "markdown",
   "id": "afa5e9e0-12c0-4341-91e5-1601c8be7f04",
   "metadata": {},
   "source": [
    "## Basic setup"
   ]
  },
  {
   "cell_type": "code",
   "execution_count": null,
   "id": "d75a413a-8b8c-4d6e-84ce-8dc95ff65706",
   "metadata": {},
   "outputs": [],
   "source": [
    "from pathlib import Path\n",
    "example_data_path = Path(\"../parcels_example_data/\")"
   ]
  },
  {
   "cell_type": "markdown",
   "id": "011f43b3-c325-428d-81d8-cea3de4a7591",
   "metadata": {},
   "source": [
    "## Importing relevant modules\n",
    "\n",
    "We need to import `parcels` itself along with `matplotlib`, `xarray`, and `datetime`."
   ]
  },
  {
   "cell_type": "code",
   "execution_count": null,
   "id": "933669c5-7340-4e00-a2d0-4c87bf9e8f3e",
   "metadata": {},
   "outputs": [],
   "source": [
    "import parcels\n",
    "\n",
    "from matplotlib import pyplot as plt\n",
    "import cartopy\n",
    "\n",
    "import xarray as xr\n",
    "import numpy as np\n",
    "import math\n",
    "\n",
    "import datetime"
   ]
  },
  {
   "cell_type": "markdown",
   "id": "d314d020-7905-48eb-ad0b-7f3ecffe333f",
   "metadata": {},
   "source": [
    "## Create FieldSet"
   ]
  },
  {
   "cell_type": "markdown",
   "id": "3009a51a-9bc9-4cf1-802c-3031323ce580",
   "metadata": {},
   "source": [
    "Load the example data from the `\"GlobCurrent_example_data\"` directory.\n",
    "Filesnames are starting with a year in the 2000's.\n",
    "\n",
    "\n",
    "Hints:\n",
    "- use the `.from_netcdf()` method to create the fieldset\n",
    "- variable `\"eastward_eulerian_current_velocity\"` is `\"U\"`\n",
    "- variable `\"northward_eulerian_current_velocity\"` is `\"V\"`.\n",
    "- dimensions are `\"time\"`, `\"lon\"`, `\"lat\"`."
   ]
  },
  {
   "cell_type": "code",
   "execution_count": null,
   "id": "7f2c196f-d680-4beb-9567-54a9dd2fa833",
   "metadata": {},
   "outputs": [],
   "source": [
    "GlobCurrent_example_data_path = example_data_path / \"GlobCurrent_example_data\""
   ]
  },
  {
   "cell_type": "code",
   "execution_count": null,
   "id": "8fb42850-7d21-41b0-93a8-4a7717aa1d05",
   "metadata": {},
   "outputs": [],
   "source": [
    "filenames = {\n",
    "    \"U\": GlobCurrent_example_data_path / \"20*.nc\",\n",
    "    \"V\": GlobCurrent_example_data_path / \"20*.nc\",\n",
    "}"
   ]
  },
  {
   "cell_type": "code",
   "execution_count": null,
   "id": "e87619ba-1c83-46ba-a7a4-b43fe63193d9",
   "metadata": {},
   "outputs": [],
   "source": [
    "variables = {\n",
    "    \"U\": \"eastward_eulerian_current_velocity\",\n",
    "    \"V\": \"northward_eulerian_current_velocity\",\n",
    "}\n",
    "dimensions = {\"lat\": \"lat\", \"lon\": \"lon\", \"time\": \"time\"}"
   ]
  },
  {
   "cell_type": "code",
   "execution_count": null,
   "id": "a35b623c-0e8b-403c-9ac7-4bd2139af597",
   "metadata": {},
   "outputs": [],
   "source": [
    "fieldset = parcels.FieldSet.from_netcdf(filenames, variables, dimensions, deferred_load=False)"
   ]
  },
  {
   "cell_type": "markdown",
   "id": "c3ba777d-4a1b-4c5c-aaf5-4ed0fc447fd3",
   "metadata": {},
   "source": [
    "## Create ParticleSet"
   ]
  },
  {
   "attachments": {},
   "cell_type": "markdown",
   "id": "c1af6d15-ea14-47a3-87f4-0671e9824e3e",
   "metadata": {},
   "source": [
    "Now define a `ParticleSet`, in this case with 2_000 particle starting randomly distributed within the bounds of the fieldset. Use the `ParticleSet.from_list` constructor method again."
   ]
  },
  {
   "cell_type": "code",
   "execution_count": null,
   "id": "67f55c45-cfca-4b47-92f8-f1df6aeff2f3",
   "metadata": {},
   "outputs": [],
   "source": [
    "number_particles = 1_000\n",
    "lon_bds = (24, 27)\n",
    "lat_bds = (-39, -34.5)\n",
    "time_0 = fieldset.U.grid.time[0]"
   ]
  },
  {
   "cell_type": "code",
   "execution_count": null,
   "id": "db5108ef-eaaf-4e39-a8ec-c45be26e7682",
   "metadata": {},
   "outputs": [],
   "source": [
    "pset = parcels.ParticleSet.from_list(\n",
    "    fieldset=fieldset,\n",
    "    pclass=parcels.JITParticle,\n",
    "    lon=np.random.uniform(*lon_bds, size=(number_particles, )),\n",
    "    lat=np.random.uniform(*lat_bds, size=(number_particles, )),\n",
    "    time=time_0 + np.zeros(shape=(number_particles, ))\n",
    ")"
   ]
  },
  {
   "attachments": {},
   "cell_type": "markdown",
   "id": "66d98efc-8021-4276-8977-7dbd55f1d39c",
   "metadata": {},
   "source": [
    "## Error kernel\n",
    "\n",
    "Particles will leave the regional domain covered by the velocity data we provide here. This will lead to an `ErrorOutOfBounds` status of the particle. We'll handle this by capturing all status codes which indicate errors and deleting the respective article.\n",
    "\n",
    "(See https://docs.oceanparcels.org/en/latest/examples/tutorial_kernelloop.html#Working-with-Status-Codes) "
   ]
  },
  {
   "cell_type": "code",
   "execution_count": null,
   "id": "2cee4275-f1dd-452c-8d14-aa39f245b6c5",
   "metadata": {},
   "outputs": [],
   "source": [
    "def CheckError(particle, fieldset, time):\n",
    "    if particle.state >= 50:  # This captures all Errors\n",
    "        particle.delete()"
   ]
  },
  {
   "cell_type": "markdown",
   "id": "49879d88-837f-4a0b-be8b-694df8eaf8d1",
   "metadata": {},
   "source": [
    "## Create a custom kernel"
   ]
  },
  {
   "cell_type": "markdown",
   "id": "7aa3b962-624a-49f4-b91e-3ccc8029a686",
   "metadata": {},
   "source": [
    "Let's add some eastward drift. Note that we need to provide the drift velocity in degrees per second."
   ]
  },
  {
   "cell_type": "code",
   "execution_count": null,
   "id": "c895c6c0-c428-4e51-99d2-4fb7f8039a8b",
   "metadata": {},
   "outputs": [],
   "source": []
  },
  {
   "attachments": {},
   "cell_type": "markdown",
   "id": "933e6fe9-fe55-40f0-a43b-ca48f677c91c",
   "metadata": {},
   "source": [
    "Execute the `ParticleSet` for 10 days at 5-minute time step using the 4th order Runge-Kutta kernel, with the drift kernel, and the error kernel above.\n",
    "Capture output every 6 hours."
   ]
  },
  {
   "cell_type": "markdown",
   "id": "aab58ece-ea2f-41c7-b9e6-03b1d16497ba",
   "metadata": {},
   "source": [
    "## Execute"
   ]
  },
  {
   "cell_type": "code",
   "execution_count": null,
   "id": "8327c2b0-3088-49df-82fd-9540643e8eba",
   "metadata": {},
   "outputs": [],
   "source": []
  },
  {
   "cell_type": "markdown",
   "id": "b9f3a1b9-2aa9-4243-bd66-38f84cfede26",
   "metadata": {},
   "source": [
    "## Have a look at the output"
   ]
  },
  {
   "cell_type": "code",
   "execution_count": null,
   "id": "ffafac87-c276-41bf-9cc0-c8bf10e8a59e",
   "metadata": {},
   "outputs": [],
   "source": []
  },
  {
   "cell_type": "code",
   "execution_count": null,
   "id": "b50454e4-be1f-45d1-baea-7d8f10f13606",
   "metadata": {},
   "outputs": [],
   "source": [
    "fig, ax = plt.subplots(1, 1, subplot_kw={\"projection\": cartopy.crs.PlateCarree()})\n",
    "fig.set_dpi(150)\n",
    "for n in range(ds.sizes[\"trajectory\"]):\n",
    "    ax.plot(\n",
    "        *ds.isel(trajectory=n)[[\"lon\", \"lat\"]].dropna(\"obs\").data_vars.values(),\n",
    "        color=\"k\", alpha=0.05,\n",
    "        transform=cartopy.crs.PlateCarree(),\n",
    "    )\n",
    "ax.coastlines()\n",
    "ax.set_extent([\n",
    "    np.min(fieldset.U.grid.lon),\n",
    "    np.max(fieldset.U.grid.lon),\n",
    "    np.min(fieldset.U.grid.lat),\n",
    "    np.max(fieldset.U.grid.lat),\n",
    "])\n",
    "ax.gridlines(draw_labels=True);"
   ]
  }
 ],
 "metadata": {
  "kernelspec": {
   "display_name": "Python 3 (ipykernel)",
   "language": "python",
   "name": "python3"
  },
  "language_info": {
   "codemirror_mode": {
    "name": "ipython",
    "version": 3
   },
   "file_extension": ".py",
   "mimetype": "text/x-python",
   "name": "python",
   "nbconvert_exporter": "python",
   "pygments_lexer": "ipython3",
   "version": "3.11.10"
  }
 },
 "nbformat": 4,
 "nbformat_minor": 5
}
