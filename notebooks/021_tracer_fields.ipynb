{
 "cells": [
  {
   "cell_type": "markdown",
   "id": "3d328838-3232-4ec0-b55c-b6025f52d8be",
   "metadata": {},
   "source": [
    "# Advanced Topics -- Sampling Tracer Fields\n",
    "\n",
    "(Boiled down from: https://docs.oceanparcels.org/en/v3.0.4/examples/parcels_tutorial.html)"
   ]
  },
  {
   "cell_type": "markdown",
   "id": "afa5e9e0-12c0-4341-91e5-1601c8be7f04",
   "metadata": {},
   "source": [
    "## Basic setup"
   ]
  },
  {
   "cell_type": "code",
   "execution_count": null,
   "id": "d75a413a-8b8c-4d6e-84ce-8dc95ff65706",
   "metadata": {},
   "outputs": [],
   "source": [
    "from pathlib import Path\n",
    "example_data_path = Path(\"../parcels_example_data/\")"
   ]
  },
  {
   "cell_type": "markdown",
   "id": "011f43b3-c325-428d-81d8-cea3de4a7591",
   "metadata": {},
   "source": [
    "## Importing relevant modules\n",
    "\n",
    "We need to import `parcels` itself along with `matplotlib`, `xarray`, and `datetime`."
   ]
  },
  {
   "cell_type": "code",
   "execution_count": null,
   "id": "933669c5-7340-4e00-a2d0-4c87bf9e8f3e",
   "metadata": {},
   "outputs": [],
   "source": [
    "import parcels\n",
    "\n",
    "from matplotlib import pyplot as plt\n",
    "import cartopy\n",
    "\n",
    "import xarray as xr\n",
    "import numpy as np\n",
    "import math\n",
    "\n",
    "import datetime"
   ]
  },
  {
   "cell_type": "markdown",
   "id": "d314d020-7905-48eb-ad0b-7f3ecffe333f",
   "metadata": {},
   "source": [
    "## Create FieldSet"
   ]
  },
  {
   "cell_type": "markdown",
   "id": "3009a51a-9bc9-4cf1-802c-3031323ce580",
   "metadata": {},
   "source": [
    "Load the example data from the `\"GlobCurrent_example_data\"` directory.\n",
    "Filesnames are starting with a year in the 2000's.\n",
    "\n",
    "\n",
    "Hints:\n",
    "- use the `.from_netcdf()` method to create the fieldset\n",
    "- variable `\"eastward_eulerian_current_velocity\"` is `\"U\"`\n",
    "- variable `\"northward_eulerian_current_velocity\"` is `\"V\"`.\n",
    "- dimensions are `\"time\"`, `\"lon\"`, `\"lat\"`."
   ]
  },
  {
   "cell_type": "code",
   "execution_count": null,
   "id": "7f2c196f-d680-4beb-9567-54a9dd2fa833",
   "metadata": {},
   "outputs": [],
   "source": [
    "GlobCurrent_example_data_path = example_data_path / \"GlobCurrent_example_data\""
   ]
  },
  {
   "cell_type": "code",
   "execution_count": null,
   "id": "8fb42850-7d21-41b0-93a8-4a7717aa1d05",
   "metadata": {},
   "outputs": [],
   "source": [
    "filenames = {\n",
    "    \"U\": GlobCurrent_example_data_path / \"20*.nc\",\n",
    "    \"V\": GlobCurrent_example_data_path / \"20*.nc\",\n",
    "}"
   ]
  },
  {
   "cell_type": "code",
   "execution_count": null,
   "id": "e87619ba-1c83-46ba-a7a4-b43fe63193d9",
   "metadata": {},
   "outputs": [],
   "source": [
    "variables = {\n",
    "    \"U\": \"eastward_eulerian_current_velocity\",\n",
    "    \"V\": \"northward_eulerian_current_velocity\",\n",
    "}\n",
    "dimensions = {\"lat\": \"lat\", \"lon\": \"lon\", \"time\": \"time\"}"
   ]
  },
  {
   "cell_type": "code",
   "execution_count": null,
   "id": "a35b623c-0e8b-403c-9ac7-4bd2139af597",
   "metadata": {},
   "outputs": [],
   "source": [
    "fieldset = parcels.FieldSet.from_netcdf(filenames, variables, dimensions, deferred_load=False)"
   ]
  },
  {
   "cell_type": "markdown",
   "id": "f5e4f2b6-66e8-4af8-be60-245408e5a6bd",
   "metadata": {},
   "source": [
    "## Add a variable\n",
    "\n",
    "Define a `parcels.Field` and then use `.add_field()` on the fieldset."
   ]
  },
  {
   "cell_type": "code",
   "execution_count": null,
   "id": "df79fffe-7cf2-45cc-9c47-9bd21ca8d4c3",
   "metadata": {},
   "outputs": [],
   "source": [
    "first_data_file = sorted(GlobCurrent_example_data_path.glob(\"20*.nc\"))[0]\n",
    "first_data_file"
   ]
  },
  {
   "cell_type": "code",
   "execution_count": null,
   "id": "14704b67-07e2-44b8-baf3-1c76f4d2f179",
   "metadata": {},
   "outputs": [],
   "source": []
  },
  {
   "cell_type": "code",
   "execution_count": null,
   "id": "281a2040-3f83-4752-8da5-5d1fd8d85915",
   "metadata": {},
   "outputs": [],
   "source": []
  },
  {
   "cell_type": "markdown",
   "id": "efe2bcb1-cf23-4b8e-9b9d-0e4dfc4a01fa",
   "metadata": {},
   "source": [
    "## Sampling mechanism\n",
    "\n",
    "We'll need to add a variable `\"land\"` to the Particle object, and we'll need to create a sampling kernel."
   ]
  },
  {
   "cell_type": "code",
   "execution_count": null,
   "id": "8d550fdd-da3d-4bcd-9a4d-3521c847bc03",
   "metadata": {},
   "outputs": [],
   "source": []
  },
  {
   "cell_type": "code",
   "execution_count": null,
   "id": "8a04b91c-9f18-44ce-8f40-00b99d6dfa81",
   "metadata": {},
   "outputs": [],
   "source": []
  },
  {
   "cell_type": "markdown",
   "id": "c3ba777d-4a1b-4c5c-aaf5-4ed0fc447fd3",
   "metadata": {},
   "source": [
    "## Create ParticleSet"
   ]
  },
  {
   "attachments": {},
   "cell_type": "markdown",
   "id": "c1af6d15-ea14-47a3-87f4-0671e9824e3e",
   "metadata": {},
   "source": [
    "Now define a `ParticleSet`, in this case with 2_000 particle starting randomly distributed within the bounds of the fieldset. Use the `ParticleSet.from_list` constructor method again."
   ]
  },
  {
   "cell_type": "code",
   "execution_count": null,
   "id": "67f55c45-cfca-4b47-92f8-f1df6aeff2f3",
   "metadata": {},
   "outputs": [],
   "source": [
    "number_particles = 10_000\n",
    "lon_bds = np.min(fieldset.U.grid.lon), np.max(fieldset.U.grid.lon)\n",
    "lat_bds = np.min(fieldset.U.grid.lat), np.max(fieldset.U.grid.lat)\n",
    "time_0 = fieldset.U.grid.time[0]"
   ]
  },
  {
   "cell_type": "code",
   "execution_count": null,
   "id": "b206185b-7306-463b-842b-dcfe296af4d8",
   "metadata": {},
   "outputs": [],
   "source": []
  },
  {
   "attachments": {},
   "cell_type": "markdown",
   "id": "1563b200-2ec7-4b36-aeac-4513e5a1aece",
   "metadata": {},
   "source": [
    "## Error kernel\n",
    "\n",
    "Particles will leave the regional domain covered by the velocity data we provide here. This will lead to an `ErrorOutOfBounds` status of the particle. We'll handle this by capturing all status codes which indicate errors and deleting the respective article.\n",
    "\n",
    "(See https://docs.oceanparcels.org/en/latest/examples/tutorial_kernelloop.html#Working-with-Status-Codes) "
   ]
  },
  {
   "cell_type": "code",
   "execution_count": null,
   "id": "2cee4275-f1dd-452c-8d14-aa39f245b6c5",
   "metadata": {},
   "outputs": [],
   "source": [
    "def CheckError(particle, fieldset, time):\n",
    "    if particle.state >= 50:  # This captures all Errors\n",
    "        particle.delete()"
   ]
  },
  {
   "cell_type": "markdown",
   "id": "1213d06f-44fe-43eb-9582-8098a72b5efc",
   "metadata": {},
   "source": [
    "## Execute"
   ]
  },
  {
   "attachments": {},
   "cell_type": "markdown",
   "id": "933e6fe9-fe55-40f0-a43b-ca48f677c91c",
   "metadata": {},
   "source": [
    "Execute the `ParticleSet` for 10 days at 5-minute time step using the 4th order Runge-Kutta kernel, with the drift kernel, and the error kernel above.\n",
    "Capture output every 6 hours."
   ]
  },
  {
   "cell_type": "code",
   "execution_count": null,
   "id": "ca8ebca3-809d-49d1-a6b3-028a7c70ed9c",
   "metadata": {},
   "outputs": [],
   "source": []
  },
  {
   "cell_type": "markdown",
   "id": "b9f3a1b9-2aa9-4243-bd66-38f84cfede26",
   "metadata": {},
   "source": [
    "## Have a look at the output"
   ]
  },
  {
   "cell_type": "code",
   "execution_count": null,
   "id": "21539559-fc29-4134-a48a-89607fb79bb2",
   "metadata": {},
   "outputs": [],
   "source": []
  },
  {
   "cell_type": "code",
   "execution_count": null,
   "id": "249c6c0b-e0a9-4678-a185-e1003169b898",
   "metadata": {},
   "outputs": [],
   "source": []
  }
 ],
 "metadata": {
  "kernelspec": {
   "display_name": "Python 3 (ipykernel)",
   "language": "python",
   "name": "python3"
  },
  "language_info": {
   "codemirror_mode": {
    "name": "ipython",
    "version": 3
   },
   "file_extension": ".py",
   "mimetype": "text/x-python",
   "name": "python",
   "nbconvert_exporter": "python",
   "pygments_lexer": "ipython3",
   "version": "3.11.10"
  }
 },
 "nbformat": 4,
 "nbformat_minor": 5
}
