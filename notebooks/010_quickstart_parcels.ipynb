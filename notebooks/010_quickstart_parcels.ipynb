{
 "cells": [
  {
   "cell_type": "markdown",
   "id": "9150647d-2979-414f-ac70-cd1a281d7228",
   "metadata": {},
   "source": [
    "# Quickstart to parcels\n",
    "\n",
    "(Boiled down from: https://docs.oceanparcels.org/en/v3.0.4/examples/parcels_tutorial.html)"
   ]
  },
  {
   "cell_type": "markdown",
   "id": "864cc43c-ed2b-489e-bf06-3c2cd0cff7af",
   "metadata": {},
   "source": [
    "## Basic setup"
   ]
  },
  {
   "cell_type": "code",
   "execution_count": 1,
   "id": "a3a2ec49-2d51-4498-ae99-4b29ed90f87e",
   "metadata": {},
   "outputs": [],
   "source": [
    "from pathlib import Path\n",
    "example_data_path = Path(\"../parcels_example_data/\")"
   ]
  },
  {
   "cell_type": "markdown",
   "id": "841eab9d-be97-4d75-a7c4-82a0d77c0c38",
   "metadata": {},
   "source": [
    "## Importing relevant modules\n",
    "\n",
    "We need to import `parcels` itself along with `matplotlib`, `xarray`, and `datetime`."
   ]
  },
  {
   "cell_type": "code",
   "execution_count": null,
   "id": "f644df39-7322-4917-b718-910937382f95",
   "metadata": {},
   "outputs": [],
   "source": []
  },
  {
   "cell_type": "markdown",
   "id": "079f1b03-b7f4-42e8-a0f1-aa62cb212689",
   "metadata": {},
   "source": [
    "## Moving Eddies: Idealised field"
   ]
  },
  {
   "cell_type": "markdown",
   "id": "897e0ea9-6ee2-4ca1-9287-4a65d37f5021",
   "metadata": {},
   "source": [
    "Create fieldsset w/ `.from_parcels()` on the \"MovingEddies_data\" dataset (where individual files are called `\"moving_eddies?.nc\"`:"
   ]
  },
  {
   "cell_type": "code",
   "execution_count": null,
   "id": "07442de7-8195-4035-9525-2631bd683e00",
   "metadata": {},
   "outputs": [],
   "source": []
  },
  {
   "cell_type": "markdown",
   "id": "e76f983f-99bd-4d73-8453-40f2c3e8a866",
   "metadata": {},
   "source": [
    "Have a look:\n",
    "- `fieldset.computeTimeChunk()` loads data\n",
    "- plot `fieldset.U.data[0, :, :]` against its cooreds `fieldset.U.grid.lon`, and `fieldset.U.grid.lat`."
   ]
  },
  {
   "cell_type": "code",
   "execution_count": null,
   "id": "148f9d4d-d785-4b42-a04c-ee21da1493f1",
   "metadata": {},
   "outputs": [],
   "source": []
  },
  {
   "cell_type": "markdown",
   "id": "9af1cff0-c53f-4f42-a5d6-0bcf2dfb98f9",
   "metadata": {},
   "source": [
    "Create a particleset using `ParticleSet.from_list()` starting on the `lon=3.3e5` line."
   ]
  },
  {
   "cell_type": "code",
   "execution_count": null,
   "id": "ca7be741-a4e3-41d5-b5a4-e72e5fcd4eec",
   "metadata": {},
   "outputs": [],
   "source": []
  },
  {
   "cell_type": "markdown",
   "id": "00222cdd-8c81-421c-9b8c-8c8169c01d7a",
   "metadata": {},
   "source": [
    "Have a look at the `particleset`. (Print and plot `pset.lon` and `pset.lat` along with the `fieldset`.)"
   ]
  },
  {
   "cell_type": "code",
   "execution_count": null,
   "id": "bccd8e2f-5a35-4587-9c96-09b13c83e7f9",
   "metadata": {},
   "outputs": [],
   "source": []
  },
  {
   "cell_type": "markdown",
   "id": "30666677-f841-4525-872a-96d1ffe79c61",
   "metadata": {},
   "source": [
    "Let particles evolve with the `AdvectionRK4` `kernel`, using a `runtime` of 3 days with a 5 minute time step `dt`."
   ]
  },
  {
   "cell_type": "code",
   "execution_count": null,
   "id": "53b5df92-cdfd-459d-982f-973a46136e43",
   "metadata": {},
   "outputs": [],
   "source": []
  },
  {
   "cell_type": "markdown",
   "id": "7777ea96-dc03-4692-8a43-962af1dd6b8a",
   "metadata": {},
   "source": [
    "Have a look at the new particle positions."
   ]
  },
  {
   "cell_type": "code",
   "execution_count": null,
   "id": "1ae26fdf-bf98-4ae4-a9f9-64756d004770",
   "metadata": {},
   "outputs": [],
   "source": []
  },
  {
   "cell_type": "markdown",
   "id": "467697d2-6573-44f3-a085-c0022061e732",
   "metadata": {},
   "source": [
    "Define a `ParticleFile` (passed to `.execute()` as `output_file`) \"EddyParticles.zarr\" with an `outputdt` of 1 hour and execute the `particleset` again for 3 days."
   ]
  },
  {
   "cell_type": "code",
   "execution_count": null,
   "id": "63981d76-e966-4073-abed-8eb18eab2b98",
   "metadata": {},
   "outputs": [],
   "source": []
  },
  {
   "cell_type": "markdown",
   "id": "3339cbe4-8207-4afb-9bc6-e71dca68615d",
   "metadata": {},
   "source": [
    "Have a look at the output file with `xarray` (using `.open_zarr()`)."
   ]
  },
  {
   "cell_type": "code",
   "execution_count": null,
   "id": "fd3d98f3-c799-4b1a-b4b0-764fa7817ba3",
   "metadata": {},
   "outputs": [],
   "source": []
  },
  {
   "cell_type": "markdown",
   "id": "fb885b19-547e-4e36-a21f-ced0f6d4ae91",
   "metadata": {},
   "source": [
    "Run particles backward in time for 6 days and compare the recorded trajectories."
   ]
  },
  {
   "cell_type": "code",
   "execution_count": null,
   "id": "66958659-046a-4c9c-9229-cd5935c7c627",
   "metadata": {},
   "outputs": [],
   "source": []
  },
  {
   "cell_type": "markdown",
   "id": "11ba091f-da5e-4351-8387-251b2ded109a",
   "metadata": {},
   "source": [
    "Have a look with Xarray and compare both output files"
   ]
  },
  {
   "cell_type": "code",
   "execution_count": null,
   "id": "f8179af8-bacc-4bb1-bdf1-d6d1cab5a27c",
   "metadata": {},
   "outputs": [],
   "source": []
  }
 ],
 "metadata": {
  "kernelspec": {
   "display_name": "Python 3 (ipykernel)",
   "language": "python",
   "name": "python3"
  },
  "language_info": {
   "codemirror_mode": {
    "name": "ipython",
    "version": 3
   },
   "file_extension": ".py",
   "mimetype": "text/x-python",
   "name": "python",
   "nbconvert_exporter": "python",
   "pygments_lexer": "ipython3",
   "version": "3.11.10"
  }
 },
 "nbformat": 4,
 "nbformat_minor": 5
}
